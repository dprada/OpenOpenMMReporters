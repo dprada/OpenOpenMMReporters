{
 "cells": [
  {
   "cell_type": "markdown",
   "id": "af73eaeb-5795-4113-b785-049865454989",
   "metadata": {},
   "source": [
    "# ParmEd Reporter"
   ]
  },
  {
   "cell_type": "markdown",
   "id": "1b4af8c2-1c01-4485-97e8-b4482fa2c1dd",
   "metadata": {},
   "source": [
    "[To be done]"
   ]
  },
  {
   "cell_type": "code",
   "execution_count": null,
   "id": "45c3fc0b-e295-404c-9904-21a42400d512",
   "metadata": {},
   "outputs": [],
   "source": []
  }
 ],
 "metadata": {
  "kernelspec": {
   "display_name": "Python 3",
   "language": "python",
   "name": "python3"
  },
  "language_info": {
   "codemirror_mode": {
    "name": "ipython",
    "version": 3
   },
   "file_extension": ".py",
   "mimetype": "text/x-python",
   "name": "python",
   "nbconvert_exporter": "python",
   "pygments_lexer": "ipython3",
   "version": "3.7.10"
  }
 },
 "nbformat": 4,
 "nbformat_minor": 5
}
