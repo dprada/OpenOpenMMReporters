{
 "cells": [
  {
   "cell_type": "markdown",
   "id": "40358fc6-b1c2-4ded-bac5-5466fbdfda79",
   "metadata": {},
   "source": [
    "# Demo Simulations"
   ]
  },
  {
   "cell_type": "markdown",
   "id": "54947812-90c6-4de6-ae61-add97aea5a4e",
   "metadata": {},
   "source": [
    "## Two LJ particles"
   ]
  },
  {
   "cell_type": "markdown",
   "id": "85b0da3d-502d-4241-8a4c-6ed8dd0c3929",
   "metadata": {},
   "source": [
    "```python\n",
    "mass = 100.0 * unit.amu\n",
    "sigma = 2**(11.0/6.0) * unit.angstroms       # radius = 2.0  angstroms\n",
    "epsilon = 1.0 * unit.kilocalories_per_mole\n",
    "charge = 0.0 * unit.elementary_charge\n",
    "\n",
    "box = np.array([[3.0, 0.0, 0.0], [0.0, 3.0, 0.0], [0.0, 0.0, 3.0]])*unit.nanometers\n",
    "coordinates = np.array([[0.0, 0.0, 0.0], [0.0, 1.5, 0.0]])*unit.nanometers\n",
    "velocities = np.array([[0.0, 0.0, 0.0], [0.0, 0.0, 0.0]])*unit.nanometers/unit.picoseconds\n",
    "\n",
    "temperature = 300.0*unit.kelvin\n",
    "collisions_rate = 1.0/unit.picoseconds\n",
    "integration_timestep = 2.0*unit.femtoseconds\n",
    "\n",
    "cutoff_distance = 1.2*unit.nanometers\n",
    "switching_distance = 0.9*unit.nanometers\n",
    "```"
   ]
  },
  {
   "cell_type": "code",
   "execution_count": 1,
   "id": "1169f7b0-29a3-4f9d-a885-1ee1e32b8041",
   "metadata": {},
   "outputs": [],
   "source": [
    "from openopenmmreporters.demo import two_LJ_particles"
   ]
  },
  {
   "cell_type": "code",
   "execution_count": 2,
   "id": "ff86744e-c748-4654-bb3f-98392a110265",
   "metadata": {},
   "outputs": [],
   "source": [
    "simulation = two_LJ_particles(platform_name='CUDA')"
   ]
  },
  {
   "cell_type": "code",
   "execution_count": 3,
   "id": "1166c929-c7f7-4085-869a-2abf1b9bbd5f",
   "metadata": {},
   "outputs": [],
   "source": [
    "simulation.step(1000)"
   ]
  },
  {
   "cell_type": "code",
   "execution_count": 4,
   "id": "6ce21287-898b-4e3a-aeb9-7f925eb525d7",
   "metadata": {},
   "outputs": [],
   "source": [
    "final_state = simulation.context.getState(getPositions=True)"
   ]
  },
  {
   "cell_type": "code",
   "execution_count": 5,
   "id": "96519463-a4e5-4708-a9ed-ffb8edd48171",
   "metadata": {},
   "outputs": [
    {
     "data": {
      "text/plain": [
       "Quantity(value=[Vec3(x=-0.3012125492095947, y=0.28041544556617737, z=0.21089693903923035), Vec3(x=0.08183199167251587, y=1.3289655447006226, z=0.26684120297431946)], unit=nanometer)"
      ]
     },
     "execution_count": 5,
     "metadata": {},
     "output_type": "execute_result"
    }
   ],
   "source": [
    "final_state.getPositions()"
   ]
  },
  {
   "cell_type": "code",
   "execution_count": 6,
   "id": "904c7265-1a25-4d09-87e8-7a5cf97538bd",
   "metadata": {},
   "outputs": [
    {
     "data": {
      "text/plain": [
       "Quantity(value=2.0000000000000013, unit=picosecond)"
      ]
     },
     "execution_count": 6,
     "metadata": {},
     "output_type": "execute_result"
    }
   ],
   "source": [
    "final_state.getTime()"
   ]
  }
 ],
 "metadata": {
  "kernelspec": {
   "display_name": "Python 3",
   "language": "python",
   "name": "python3"
  },
  "language_info": {
   "codemirror_mode": {
    "name": "ipython",
    "version": 3
   },
   "file_extension": ".py",
   "mimetype": "text/x-python",
   "name": "python",
   "nbconvert_exporter": "python",
   "pygments_lexer": "ipython3",
   "version": "3.7.10"
  }
 },
 "nbformat": 4,
 "nbformat_minor": 5
}
