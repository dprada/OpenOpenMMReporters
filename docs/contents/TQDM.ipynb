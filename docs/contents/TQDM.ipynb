{
 "cells": [
  {
   "cell_type": "markdown",
   "id": "d272c3fc-5473-4c2b-a67f-d2818436dafd",
   "metadata": {},
   "source": [
    "# tqdm"
   ]
  },
  {
   "cell_type": "code",
   "execution_count": 1,
   "id": "33641455-11f6-4409-8ae0-04ddf8ebfc44",
   "metadata": {},
   "outputs": [],
   "source": [
    "from openopenmmreporters import TQDMReporter\n",
    "from openopenmmreporters.demo import two_LJ_particles"
   ]
  },
  {
   "cell_type": "code",
   "execution_count": 2,
   "id": "78cdedf9-2e6e-4e3f-9061-33284369aa9b",
   "metadata": {},
   "outputs": [],
   "source": [
    "simulation = two_LJ_particles(platform_name='CPU')"
   ]
  },
  {
   "cell_type": "code",
   "execution_count": 3,
   "id": "00ba5863-adce-4f73-b0d8-8d43079656f1",
   "metadata": {},
   "outputs": [
    {
     "name": "stderr",
     "output_type": "stream",
     "text": [
      "100%|██████████| 10000/10000 [00:13<00:00, 731.59it/s]\n"
     ]
    }
   ],
   "source": [
    "n_steps = 10000\n",
    "report_interval = 100\n",
    "\n",
    "reporter = TQDMReporter(report_interval, n_steps)\n",
    "simulation.reporters.append(reporter)\n",
    "\n",
    "simulation.step(n_steps)\n",
    "\n",
    "reporter.finalize()"
   ]
  }
 ],
 "metadata": {
  "kernelspec": {
   "display_name": "Python 3",
   "language": "python",
   "name": "python3"
  },
  "language_info": {
   "codemirror_mode": {
    "name": "ipython",
    "version": 3
   },
   "file_extension": ".py",
   "mimetype": "text/x-python",
   "name": "python",
   "nbconvert_exporter": "python",
   "pygments_lexer": "ipython3",
   "version": "3.7.10"
  }
 },
 "nbformat": 4,
 "nbformat_minor": 5
}
